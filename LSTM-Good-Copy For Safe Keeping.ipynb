{
 "cells": [
  {
   "cell_type": "markdown",
   "metadata": {},
   "source": [
    "# **Law of Motion Calculations**"
   ]
  },
  {
   "cell_type": "markdown",
   "metadata": {},
   "source": [
    "#### Libraries"
   ]
  },
  {
   "cell_type": "code",
   "execution_count": 1,
   "metadata": {},
   "outputs": [],
   "source": [
    "from math import sqrt\n",
    "from numpy import concatenate\n",
    "from matplotlib import pyplot\n",
    "from pandas import read_csv\n",
    "from pandas import DataFrame\n",
    "import pandas as pd\n",
    "from pandas import concat\n",
    "from sklearn.preprocessing import MinMaxScaler\n",
    "from sklearn.preprocessing import LabelEncoder\n",
    "from sklearn.metrics import mean_squared_error\n",
    "from keras.models import Sequential\n",
    "from keras.layers import Dense\n",
    "from keras.layers import LSTM\n",
    "import numpy as np\n",
    "import matplotlib.pyplot as plt\n",
    "import seaborn as sns\n",
    "sns.set()"
   ]
  },
  {
   "cell_type": "code",
   "execution_count": 1,
   "metadata": {},
   "outputs": [
    {
     "ename": "NameError",
     "evalue": "name 'plt' is not defined",
     "output_type": "error",
     "traceback": [
      "\u001b[1;31m---------------------------------------------------------------------------\u001b[0m",
      "\u001b[1;31mNameError\u001b[0m                                 Traceback (most recent call last)",
      "\u001b[1;32m<ipython-input-1-5b201e62be6c>\u001b[0m in \u001b[0;36m<module>\u001b[1;34m\u001b[0m\n\u001b[1;32m----> 1\u001b[1;33m \u001b[0mplt\u001b[0m\u001b[1;33m.\u001b[0m\u001b[0mrcParams\u001b[0m\u001b[1;33m[\u001b[0m\u001b[1;34m'font.family'\u001b[0m\u001b[1;33m]\u001b[0m \u001b[1;33m=\u001b[0m \u001b[1;34m'serif'\u001b[0m\u001b[1;33m\u001b[0m\u001b[1;33m\u001b[0m\u001b[0m\n\u001b[0m",
      "\u001b[1;31mNameError\u001b[0m: name 'plt' is not defined"
     ]
    }
   ],
   "source": [
    "plt.rcParams['font.family'] = 'serif'"
   ]
  },
  {
   "cell_type": "markdown",
   "metadata": {},
   "source": [
    "#### **Data Setup**"
   ]
  },
  {
   "cell_type": "code",
   "execution_count": 2,
   "metadata": {
    "scrolled": true
   },
   "outputs": [
    {
     "name": "stderr",
     "output_type": "stream",
     "text": [
      "<ipython-input-2-85e6e0943ffe>:5: FutureWarning: The pandas.datetime class is deprecated and will be removed from pandas in a future version. Import from datetime module instead.\n",
      "  split_date = pd.datetime(2020,8,1)\n",
      "<ipython-input-2-85e6e0943ffe>:8: FutureWarning: The pandas.datetime class is deprecated and will be removed from pandas in a future version. Import from datetime module instead.\n",
      "  covid_date = pd.datetime(2020,3,20)\n"
     ]
    },
    {
     "data": {
      "text/html": [
       "<div>\n",
       "<style scoped>\n",
       "    .dataframe tbody tr th:only-of-type {\n",
       "        vertical-align: middle;\n",
       "    }\n",
       "\n",
       "    .dataframe tbody tr th {\n",
       "        vertical-align: top;\n",
       "    }\n",
       "\n",
       "    .dataframe thead th {\n",
       "        text-align: right;\n",
       "    }\n",
       "</style>\n",
       "<table border=\"1\" class=\"dataframe\">\n",
       "  <thead>\n",
       "    <tr style=\"text-align: right;\">\n",
       "      <th></th>\n",
       "      <th>county</th>\n",
       "      <th>date</th>\n",
       "      <th>dex</th>\n",
       "      <th>num_devices</th>\n",
       "      <th>Cases_x</th>\n",
       "      <th>aggLEX</th>\n",
       "      <th>Diff</th>\n",
       "      <th>Dex14DaysAgo</th>\n",
       "      <th>DEX11</th>\n",
       "      <th>DEX8</th>\n",
       "      <th>DEX5</th>\n",
       "      <th>Weekday</th>\n",
       "      <th>Week</th>\n",
       "      <th>Year</th>\n",
       "      <th>CovidTime</th>\n",
       "      <th>state</th>\n",
       "    </tr>\n",
       "  </thead>\n",
       "  <tbody>\n",
       "    <tr>\n",
       "      <th>0</th>\n",
       "      <td>1001</td>\n",
       "      <td>2020-01-25</td>\n",
       "      <td>285.1728</td>\n",
       "      <td>5835</td>\n",
       "      <td>0</td>\n",
       "      <td>0.523581</td>\n",
       "      <td>0</td>\n",
       "      <td>285.1728</td>\n",
       "      <td>NaN</td>\n",
       "      <td>NaN</td>\n",
       "      <td>NaN</td>\n",
       "      <td>7</td>\n",
       "      <td>4</td>\n",
       "      <td>2020</td>\n",
       "      <td>0</td>\n",
       "      <td>1</td>\n",
       "    </tr>\n",
       "    <tr>\n",
       "      <th>1</th>\n",
       "      <td>1001</td>\n",
       "      <td>2020-01-29</td>\n",
       "      <td>126.1026</td>\n",
       "      <td>5753</td>\n",
       "      <td>0</td>\n",
       "      <td>0.506453</td>\n",
       "      <td>0</td>\n",
       "      <td>126.1026</td>\n",
       "      <td>NaN</td>\n",
       "      <td>NaN</td>\n",
       "      <td>285.1728</td>\n",
       "      <td>4</td>\n",
       "      <td>5</td>\n",
       "      <td>2020</td>\n",
       "      <td>0</td>\n",
       "      <td>1</td>\n",
       "    </tr>\n",
       "    <tr>\n",
       "      <th>2</th>\n",
       "      <td>1001</td>\n",
       "      <td>2020-02-01</td>\n",
       "      <td>337.6171</td>\n",
       "      <td>5895</td>\n",
       "      <td>0</td>\n",
       "      <td>0.529369</td>\n",
       "      <td>0</td>\n",
       "      <td>337.6171</td>\n",
       "      <td>NaN</td>\n",
       "      <td>285.1728</td>\n",
       "      <td>126.1026</td>\n",
       "      <td>7</td>\n",
       "      <td>5</td>\n",
       "      <td>2020</td>\n",
       "      <td>0</td>\n",
       "      <td>1</td>\n",
       "    </tr>\n",
       "    <tr>\n",
       "      <th>3</th>\n",
       "      <td>1001</td>\n",
       "      <td>2020-02-05</td>\n",
       "      <td>119.4391</td>\n",
       "      <td>5915</td>\n",
       "      <td>0</td>\n",
       "      <td>0.509230</td>\n",
       "      <td>0</td>\n",
       "      <td>119.4391</td>\n",
       "      <td>285.1728</td>\n",
       "      <td>126.1026</td>\n",
       "      <td>337.6171</td>\n",
       "      <td>4</td>\n",
       "      <td>6</td>\n",
       "      <td>2020</td>\n",
       "      <td>0</td>\n",
       "      <td>1</td>\n",
       "    </tr>\n",
       "    <tr>\n",
       "      <th>4</th>\n",
       "      <td>1001</td>\n",
       "      <td>2020-02-08</td>\n",
       "      <td>332.3768</td>\n",
       "      <td>5947</td>\n",
       "      <td>0</td>\n",
       "      <td>0.529436</td>\n",
       "      <td>0</td>\n",
       "      <td>285.1728</td>\n",
       "      <td>126.1026</td>\n",
       "      <td>337.6171</td>\n",
       "      <td>119.4391</td>\n",
       "      <td>7</td>\n",
       "      <td>6</td>\n",
       "      <td>2020</td>\n",
       "      <td>0</td>\n",
       "      <td>1</td>\n",
       "    </tr>\n",
       "  </tbody>\n",
       "</table>\n",
       "</div>"
      ],
      "text/plain": [
       "   county       date       dex  num_devices  Cases_x    aggLEX  Diff  \\\n",
       "0    1001 2020-01-25  285.1728         5835        0  0.523581     0   \n",
       "1    1001 2020-01-29  126.1026         5753        0  0.506453     0   \n",
       "2    1001 2020-02-01  337.6171         5895        0  0.529369     0   \n",
       "3    1001 2020-02-05  119.4391         5915        0  0.509230     0   \n",
       "4    1001 2020-02-08  332.3768         5947        0  0.529436     0   \n",
       "\n",
       "   Dex14DaysAgo     DEX11      DEX8      DEX5  Weekday  Week  Year  CovidTime  \\\n",
       "0      285.1728       NaN       NaN       NaN        7     4  2020          0   \n",
       "1      126.1026       NaN       NaN  285.1728        4     5  2020          0   \n",
       "2      337.6171       NaN  285.1728  126.1026        7     5  2020          0   \n",
       "3      119.4391  285.1728  126.1026  337.6171        4     6  2020          0   \n",
       "4      285.1728  126.1026  337.6171  119.4391        7     6  2020          0   \n",
       "\n",
       "   state  \n",
       "0      1  \n",
       "1      1  \n",
       "2      1  \n",
       "3      1  \n",
       "4      1  "
      ]
     },
     "execution_count": 2,
     "metadata": {},
     "output_type": "execute_result"
    }
   ],
   "source": [
    "#Load Megamerged\n",
    "Mega_merged = pd.read_csv('LEX_DEX_Cases_MegaMerged_vf.csv')\n",
    "Mega_merged.iloc[:,2] = pd.to_datetime(Mega_merged.iloc[:,2])\n",
    "Mega_merged.dtypes\n",
    "split_date = pd.datetime(2020,8,1)\n",
    "Mega_merged_early = Mega_merged.loc[Mega_merged['date'] < split_date]\n",
    "Mega_merged.drop(Mega_merged.columns[0], axis=1, inplace = True)\n",
    "covid_date = pd.datetime(2020,3,20)\n",
    "Mega_merged[\"CovidTime\"] =  np.where(Mega_merged['date'] < covid_date, 0, 1)\n",
    "def strip(s):\n",
    "    string = str(s)\n",
    "    if len(string) == 5:\n",
    "        return int(string[0:2])\n",
    "    elif len(string) == 4:\n",
    "        return int(string[0])\n",
    "    \n",
    "Mega_merged['state'] = Mega_merged['county'].apply(strip)\n",
    "Mega_merged.loc[Mega_merged['Year']==2021, 'Week'] = Mega_merged['Week'] + 52\n",
    "Mega_merged.head()"
   ]
  },
  {
   "cell_type": "markdown",
   "metadata": {},
   "source": [
    "Transform to a weekly basis"
   ]
  },
  {
   "cell_type": "code",
   "execution_count": 3,
   "metadata": {
    "scrolled": true
   },
   "outputs": [
    {
     "data": {
      "text/html": [
       "<div>\n",
       "<style scoped>\n",
       "    .dataframe tbody tr th:only-of-type {\n",
       "        vertical-align: middle;\n",
       "    }\n",
       "\n",
       "    .dataframe tbody tr th {\n",
       "        vertical-align: top;\n",
       "    }\n",
       "\n",
       "    .dataframe thead th {\n",
       "        text-align: right;\n",
       "    }\n",
       "</style>\n",
       "<table border=\"1\" class=\"dataframe\">\n",
       "  <thead>\n",
       "    <tr style=\"text-align: right;\">\n",
       "      <th></th>\n",
       "      <th>county</th>\n",
       "      <th>Year</th>\n",
       "      <th>Week</th>\n",
       "      <th>dex</th>\n",
       "      <th>num_devices</th>\n",
       "      <th>Cases_x</th>\n",
       "      <th>aggLEX</th>\n",
       "      <th>Diff</th>\n",
       "      <th>Dex14DaysAgo</th>\n",
       "      <th>Weekday</th>\n",
       "      <th>CovidTime</th>\n",
       "      <th>state</th>\n",
       "      <th>DEX7</th>\n",
       "    </tr>\n",
       "  </thead>\n",
       "  <tbody>\n",
       "    <tr>\n",
       "      <th>2036</th>\n",
       "      <td>1055</td>\n",
       "      <td>2020</td>\n",
       "      <td>24</td>\n",
       "      <td>169.37245</td>\n",
       "      <td>8520.5</td>\n",
       "      <td>304.5</td>\n",
       "      <td>0.485712</td>\n",
       "      <td>27.5</td>\n",
       "      <td>136.16485</td>\n",
       "      <td>5.5</td>\n",
       "      <td>1.0</td>\n",
       "      <td>1.0</td>\n",
       "      <td>161.79350</td>\n",
       "    </tr>\n",
       "    <tr>\n",
       "      <th>116247</th>\n",
       "      <td>40087</td>\n",
       "      <td>2021</td>\n",
       "      <td>78</td>\n",
       "      <td>349.03560</td>\n",
       "      <td>3203.5</td>\n",
       "      <td>5344.0</td>\n",
       "      <td>0.550349</td>\n",
       "      <td>5.0</td>\n",
       "      <td>349.37815</td>\n",
       "      <td>5.5</td>\n",
       "      <td>1.0</td>\n",
       "      <td>40.0</td>\n",
       "      <td>384.07820</td>\n",
       "    </tr>\n",
       "    <tr>\n",
       "      <th>20907</th>\n",
       "      <td>12087</td>\n",
       "      <td>2021</td>\n",
       "      <td>78</td>\n",
       "      <td>219.96055</td>\n",
       "      <td>7354.0</td>\n",
       "      <td>7196.0</td>\n",
       "      <td>0.515854</td>\n",
       "      <td>23.0</td>\n",
       "      <td>202.21730</td>\n",
       "      <td>5.5</td>\n",
       "      <td>1.0</td>\n",
       "      <td>12.0</td>\n",
       "      <td>214.49385</td>\n",
       "    </tr>\n",
       "    <tr>\n",
       "      <th>12541</th>\n",
       "      <td>6065</td>\n",
       "      <td>2020</td>\n",
       "      <td>29</td>\n",
       "      <td>73.20750</td>\n",
       "      <td>90148.5</td>\n",
       "      <td>29384.0</td>\n",
       "      <td>0.412335</td>\n",
       "      <td>2128.5</td>\n",
       "      <td>67.66610</td>\n",
       "      <td>5.5</td>\n",
       "      <td>1.0</td>\n",
       "      <td>6.0</td>\n",
       "      <td>79.84365</td>\n",
       "    </tr>\n",
       "    <tr>\n",
       "      <th>56860</th>\n",
       "      <td>21089</td>\n",
       "      <td>2021</td>\n",
       "      <td>79</td>\n",
       "      <td>154.43030</td>\n",
       "      <td>1838.5</td>\n",
       "      <td>3724.5</td>\n",
       "      <td>0.529775</td>\n",
       "      <td>8.0</td>\n",
       "      <td>183.54685</td>\n",
       "      <td>5.5</td>\n",
       "      <td>1.0</td>\n",
       "      <td>21.0</td>\n",
       "      <td>147.44030</td>\n",
       "    </tr>\n",
       "    <tr>\n",
       "      <th>20937</th>\n",
       "      <td>12089</td>\n",
       "      <td>2020</td>\n",
       "      <td>25</td>\n",
       "      <td>163.90085</td>\n",
       "      <td>7300.0</td>\n",
       "      <td>103.5</td>\n",
       "      <td>0.510146</td>\n",
       "      <td>10.5</td>\n",
       "      <td>146.83585</td>\n",
       "      <td>5.5</td>\n",
       "      <td>1.0</td>\n",
       "      <td>12.0</td>\n",
       "      <td>147.29515</td>\n",
       "    </tr>\n",
       "    <tr>\n",
       "      <th>128801</th>\n",
       "      <td>45071</td>\n",
       "      <td>2020</td>\n",
       "      <td>33</td>\n",
       "      <td>138.64485</td>\n",
       "      <td>2640.0</td>\n",
       "      <td>881.5</td>\n",
       "      <td>0.525364</td>\n",
       "      <td>24.5</td>\n",
       "      <td>116.27785</td>\n",
       "      <td>5.5</td>\n",
       "      <td>1.0</td>\n",
       "      <td>45.0</td>\n",
       "      <td>127.19810</td>\n",
       "    </tr>\n",
       "    <tr>\n",
       "      <th>33214</th>\n",
       "      <td>16045</td>\n",
       "      <td>2020</td>\n",
       "      <td>38</td>\n",
       "      <td>85.94085</td>\n",
       "      <td>877.5</td>\n",
       "      <td>269.5</td>\n",
       "      <td>0.512753</td>\n",
       "      <td>3.5</td>\n",
       "      <td>67.29430</td>\n",
       "      <td>5.5</td>\n",
       "      <td>1.0</td>\n",
       "      <td>16.0</td>\n",
       "      <td>81.71305</td>\n",
       "    </tr>\n",
       "    <tr>\n",
       "      <th>10822</th>\n",
       "      <td>6015</td>\n",
       "      <td>2021</td>\n",
       "      <td>73</td>\n",
       "      <td>52.76395</td>\n",
       "      <td>758.5</td>\n",
       "      <td>1383.0</td>\n",
       "      <td>0.485502</td>\n",
       "      <td>11.0</td>\n",
       "      <td>55.18840</td>\n",
       "      <td>5.5</td>\n",
       "      <td>1.0</td>\n",
       "      <td>6.0</td>\n",
       "      <td>47.63815</td>\n",
       "    </tr>\n",
       "    <tr>\n",
       "      <th>123446</th>\n",
       "      <td>42075</td>\n",
       "      <td>2021</td>\n",
       "      <td>53</td>\n",
       "      <td>141.82230</td>\n",
       "      <td>3658.0</td>\n",
       "      <td>9087.0</td>\n",
       "      <td>0.500507</td>\n",
       "      <td>371.0</td>\n",
       "      <td>169.87480</td>\n",
       "      <td>7.0</td>\n",
       "      <td>1.0</td>\n",
       "      <td>42.0</td>\n",
       "      <td>90.30920</td>\n",
       "    </tr>\n",
       "  </tbody>\n",
       "</table>\n",
       "</div>"
      ],
      "text/plain": [
       "        county  Year  Week        dex  num_devices  Cases_x    aggLEX    Diff  \\\n",
       "2036      1055  2020    24  169.37245       8520.5    304.5  0.485712    27.5   \n",
       "116247   40087  2021    78  349.03560       3203.5   5344.0  0.550349     5.0   \n",
       "20907    12087  2021    78  219.96055       7354.0   7196.0  0.515854    23.0   \n",
       "12541     6065  2020    29   73.20750      90148.5  29384.0  0.412335  2128.5   \n",
       "56860    21089  2021    79  154.43030       1838.5   3724.5  0.529775     8.0   \n",
       "20937    12089  2020    25  163.90085       7300.0    103.5  0.510146    10.5   \n",
       "128801   45071  2020    33  138.64485       2640.0    881.5  0.525364    24.5   \n",
       "33214    16045  2020    38   85.94085        877.5    269.5  0.512753     3.5   \n",
       "10822     6015  2021    73   52.76395        758.5   1383.0  0.485502    11.0   \n",
       "123446   42075  2021    53  141.82230       3658.0   9087.0  0.500507   371.0   \n",
       "\n",
       "        Dex14DaysAgo  Weekday  CovidTime  state       DEX7  \n",
       "2036       136.16485      5.5        1.0    1.0  161.79350  \n",
       "116247     349.37815      5.5        1.0   40.0  384.07820  \n",
       "20907      202.21730      5.5        1.0   12.0  214.49385  \n",
       "12541       67.66610      5.5        1.0    6.0   79.84365  \n",
       "56860      183.54685      5.5        1.0   21.0  147.44030  \n",
       "20937      146.83585      5.5        1.0   12.0  147.29515  \n",
       "128801     116.27785      5.5        1.0   45.0  127.19810  \n",
       "33214       67.29430      5.5        1.0   16.0   81.71305  \n",
       "10822       55.18840      5.5        1.0    6.0   47.63815  \n",
       "123446     169.87480      7.0        1.0   42.0   90.30920  "
      ]
     },
     "execution_count": 3,
     "metadata": {},
     "output_type": "execute_result"
    }
   ],
   "source": [
    "df = Mega_merged.groupby(['county', 'Year', 'Week']).mean().reset_index()\n",
    "df['DEX7'] = df['dex'].shift(periods=1)\n",
    "df.sample(10)"
   ]
  },
  {
   "cell_type": "code",
   "execution_count": 4,
   "metadata": {
    "scrolled": true
   },
   "outputs": [
    {
     "data": {
      "text/html": [
       "<div>\n",
       "<style scoped>\n",
       "    .dataframe tbody tr th:only-of-type {\n",
       "        vertical-align: middle;\n",
       "    }\n",
       "\n",
       "    .dataframe tbody tr th {\n",
       "        vertical-align: top;\n",
       "    }\n",
       "\n",
       "    .dataframe thead th {\n",
       "        text-align: right;\n",
       "    }\n",
       "</style>\n",
       "<table border=\"1\" class=\"dataframe\">\n",
       "  <thead>\n",
       "    <tr style=\"text-align: right;\">\n",
       "      <th></th>\n",
       "      <th>county</th>\n",
       "      <th>Year</th>\n",
       "      <th>Week</th>\n",
       "      <th>dex</th>\n",
       "      <th>num_devices</th>\n",
       "      <th>Cases_x</th>\n",
       "      <th>aggLEX</th>\n",
       "      <th>Diff</th>\n",
       "      <th>Dex14DaysAgo</th>\n",
       "      <th>Weekday</th>\n",
       "      <th>CovidTime</th>\n",
       "      <th>state</th>\n",
       "      <th>DEX7</th>\n",
       "    </tr>\n",
       "  </thead>\n",
       "  <tbody>\n",
       "    <tr>\n",
       "      <th>0</th>\n",
       "      <td>1001</td>\n",
       "      <td>2020</td>\n",
       "      <td>4</td>\n",
       "      <td>285.17280</td>\n",
       "      <td>5835.0</td>\n",
       "      <td>0.0</td>\n",
       "      <td>0.523581</td>\n",
       "      <td>0.0</td>\n",
       "      <td>285.17280</td>\n",
       "      <td>7.0</td>\n",
       "      <td>0.0</td>\n",
       "      <td>1.0</td>\n",
       "      <td>NaN</td>\n",
       "    </tr>\n",
       "    <tr>\n",
       "      <th>1</th>\n",
       "      <td>1001</td>\n",
       "      <td>2020</td>\n",
       "      <td>5</td>\n",
       "      <td>231.85985</td>\n",
       "      <td>5824.0</td>\n",
       "      <td>0.0</td>\n",
       "      <td>0.517911</td>\n",
       "      <td>0.0</td>\n",
       "      <td>231.85985</td>\n",
       "      <td>5.5</td>\n",
       "      <td>0.0</td>\n",
       "      <td>1.0</td>\n",
       "      <td>285.17280</td>\n",
       "    </tr>\n",
       "    <tr>\n",
       "      <th>2</th>\n",
       "      <td>1001</td>\n",
       "      <td>2020</td>\n",
       "      <td>6</td>\n",
       "      <td>225.90795</td>\n",
       "      <td>5931.0</td>\n",
       "      <td>0.0</td>\n",
       "      <td>0.519333</td>\n",
       "      <td>0.0</td>\n",
       "      <td>202.30595</td>\n",
       "      <td>5.5</td>\n",
       "      <td>0.0</td>\n",
       "      <td>1.0</td>\n",
       "      <td>231.85985</td>\n",
       "    </tr>\n",
       "    <tr>\n",
       "      <th>3</th>\n",
       "      <td>1001</td>\n",
       "      <td>2020</td>\n",
       "      <td>7</td>\n",
       "      <td>241.50980</td>\n",
       "      <td>5885.5</td>\n",
       "      <td>0.0</td>\n",
       "      <td>0.519852</td>\n",
       "      <td>0.0</td>\n",
       "      <td>231.85985</td>\n",
       "      <td>5.5</td>\n",
       "      <td>0.0</td>\n",
       "      <td>1.0</td>\n",
       "      <td>225.90795</td>\n",
       "    </tr>\n",
       "    <tr>\n",
       "      <th>4</th>\n",
       "      <td>1001</td>\n",
       "      <td>2020</td>\n",
       "      <td>8</td>\n",
       "      <td>221.59240</td>\n",
       "      <td>5814.0</td>\n",
       "      <td>0.0</td>\n",
       "      <td>0.520375</td>\n",
       "      <td>0.0</td>\n",
       "      <td>225.90795</td>\n",
       "      <td>5.5</td>\n",
       "      <td>0.0</td>\n",
       "      <td>1.0</td>\n",
       "      <td>241.50980</td>\n",
       "    </tr>\n",
       "  </tbody>\n",
       "</table>\n",
       "</div>"
      ],
      "text/plain": [
       "   county  Year  Week        dex  num_devices  Cases_x    aggLEX  Diff  \\\n",
       "0    1001  2020     4  285.17280       5835.0      0.0  0.523581   0.0   \n",
       "1    1001  2020     5  231.85985       5824.0      0.0  0.517911   0.0   \n",
       "2    1001  2020     6  225.90795       5931.0      0.0  0.519333   0.0   \n",
       "3    1001  2020     7  241.50980       5885.5      0.0  0.519852   0.0   \n",
       "4    1001  2020     8  221.59240       5814.0      0.0  0.520375   0.0   \n",
       "\n",
       "   Dex14DaysAgo  Weekday  CovidTime  state       DEX7  \n",
       "0     285.17280      7.0        0.0    1.0        NaN  \n",
       "1     231.85985      5.5        0.0    1.0  285.17280  \n",
       "2     202.30595      5.5        0.0    1.0  231.85985  \n",
       "3     231.85985      5.5        0.0    1.0  225.90795  \n",
       "4     225.90795      5.5        0.0    1.0  241.50980  "
      ]
     },
     "execution_count": 4,
     "metadata": {},
     "output_type": "execute_result"
    }
   ],
   "source": [
    "#Create Periodic Dataframes WEEKLY CONDENSED\n",
    "\n",
    "TwentyTwenty = df.loc[df['Year'] == 2020]\n",
    "TwentyTwentyOne = df.loc[df['Year'] == 2021]\n",
    "TwentyTwenty.head()"
   ]
  },
  {
   "cell_type": "markdown",
   "metadata": {},
   "source": [
    "## **LSTM Implementation**"
   ]
  },
  {
   "cell_type": "markdown",
   "metadata": {},
   "source": [
    "Data Standardization"
   ]
  },
  {
   "cell_type": "code",
   "execution_count": 5,
   "metadata": {},
   "outputs": [],
   "source": [
    "# normalize the data \n",
    "scaler = MinMaxScaler(feature_range=(0, 1))\n",
    "scaled = scaler.fit_transform(df.drop(columns=['county','Year','Week', 'CovidTime', 'state', 'Diff']))\n",
    "# create datefrane fir scaled data\n",
    "scaled_df=pd.DataFrame(data=scaled,columns=df.drop(columns=['county','Year','Week', 'CovidTime', 'state', 'Diff']).columns)"
   ]
  },
  {
   "cell_type": "code",
   "execution_count": 6,
   "metadata": {},
   "outputs": [],
   "source": [
    "confirmed_Cases=df.copy()\n",
    "confirmed_Cases[scaled_df.columns]=np.array(scaled_df)\n",
    "confirmed_Cases['county_name']=list(confirmed_Cases.county)"
   ]
  },
  {
   "cell_type": "code",
   "execution_count": 7,
   "metadata": {
    "scrolled": true
   },
   "outputs": [
    {
     "data": {
      "text/html": [
       "<div>\n",
       "<style scoped>\n",
       "    .dataframe tbody tr th:only-of-type {\n",
       "        vertical-align: middle;\n",
       "    }\n",
       "\n",
       "    .dataframe tbody tr th {\n",
       "        vertical-align: top;\n",
       "    }\n",
       "\n",
       "    .dataframe thead th {\n",
       "        text-align: right;\n",
       "    }\n",
       "</style>\n",
       "<table border=\"1\" class=\"dataframe\">\n",
       "  <thead>\n",
       "    <tr style=\"text-align: right;\">\n",
       "      <th></th>\n",
       "      <th></th>\n",
       "      <th>Diff</th>\n",
       "      <th>Dex14DaysAgo</th>\n",
       "      <th>CovidTime</th>\n",
       "      <th>DEX7</th>\n",
       "      <th>county_name</th>\n",
       "    </tr>\n",
       "    <tr>\n",
       "      <th>county</th>\n",
       "      <th>Week</th>\n",
       "      <th></th>\n",
       "      <th></th>\n",
       "      <th></th>\n",
       "      <th></th>\n",
       "      <th></th>\n",
       "    </tr>\n",
       "  </thead>\n",
       "  <tbody>\n",
       "    <tr>\n",
       "      <th rowspan=\"10\" valign=\"top\">1001</th>\n",
       "      <th>4</th>\n",
       "      <td>0.0</td>\n",
       "      <td>0.254503</td>\n",
       "      <td>0.0</td>\n",
       "      <td>NaN</td>\n",
       "      <td>1001</td>\n",
       "    </tr>\n",
       "    <tr>\n",
       "      <th>5</th>\n",
       "      <td>0.0</td>\n",
       "      <td>0.206217</td>\n",
       "      <td>0.0</td>\n",
       "      <td>0.275522</td>\n",
       "      <td>1001</td>\n",
       "    </tr>\n",
       "    <tr>\n",
       "      <th>6</th>\n",
       "      <td>0.0</td>\n",
       "      <td>0.179450</td>\n",
       "      <td>0.0</td>\n",
       "      <td>0.223248</td>\n",
       "      <td>1001</td>\n",
       "    </tr>\n",
       "    <tr>\n",
       "      <th>7</th>\n",
       "      <td>0.0</td>\n",
       "      <td>0.206217</td>\n",
       "      <td>0.0</td>\n",
       "      <td>0.217413</td>\n",
       "      <td>1001</td>\n",
       "    </tr>\n",
       "    <tr>\n",
       "      <th>8</th>\n",
       "      <td>0.0</td>\n",
       "      <td>0.200827</td>\n",
       "      <td>0.0</td>\n",
       "      <td>0.232710</td>\n",
       "      <td>1001</td>\n",
       "    </tr>\n",
       "    <tr>\n",
       "      <th>9</th>\n",
       "      <td>0.0</td>\n",
       "      <td>0.214957</td>\n",
       "      <td>0.0</td>\n",
       "      <td>0.213181</td>\n",
       "      <td>1001</td>\n",
       "    </tr>\n",
       "    <tr>\n",
       "      <th>10</th>\n",
       "      <td>0.0</td>\n",
       "      <td>0.196918</td>\n",
       "      <td>0.0</td>\n",
       "      <td>0.265679</td>\n",
       "      <td>1001</td>\n",
       "    </tr>\n",
       "    <tr>\n",
       "      <th>11</th>\n",
       "      <td>0.0</td>\n",
       "      <td>0.245411</td>\n",
       "      <td>0.0</td>\n",
       "      <td>0.224632</td>\n",
       "      <td>1001</td>\n",
       "    </tr>\n",
       "    <tr>\n",
       "      <th>12</th>\n",
       "      <td>0.0</td>\n",
       "      <td>0.207495</td>\n",
       "      <td>0.5</td>\n",
       "      <td>0.198949</td>\n",
       "      <td>1001</td>\n",
       "    </tr>\n",
       "    <tr>\n",
       "      <th>13</th>\n",
       "      <td>3.0</td>\n",
       "      <td>0.183772</td>\n",
       "      <td>1.0</td>\n",
       "      <td>0.091551</td>\n",
       "      <td>1001</td>\n",
       "    </tr>\n",
       "  </tbody>\n",
       "</table>\n",
       "</div>"
      ],
      "text/plain": [
       "             Diff  Dex14DaysAgo  CovidTime      DEX7  county_name\n",
       "county Week                                                      \n",
       "1001   4      0.0      0.254503        0.0       NaN         1001\n",
       "       5      0.0      0.206217        0.0  0.275522         1001\n",
       "       6      0.0      0.179450        0.0  0.223248         1001\n",
       "       7      0.0      0.206217        0.0  0.217413         1001\n",
       "       8      0.0      0.200827        0.0  0.232710         1001\n",
       "       9      0.0      0.214957        0.0  0.213181         1001\n",
       "       10     0.0      0.196918        0.0  0.265679         1001\n",
       "       11     0.0      0.245411        0.0  0.224632         1001\n",
       "       12     0.0      0.207495        0.5  0.198949         1001\n",
       "       13     3.0      0.183772        1.0  0.091551         1001"
      ]
     },
     "execution_count": 7,
     "metadata": {},
     "output_type": "execute_result"
    }
   ],
   "source": [
    "confirmed_Cases=confirmed_Cases.set_index(['county','Week'])\n",
    "confirmed_Cases = confirmed_Cases.drop(columns=['Cases_x', 'Year','num_devices', 'aggLEX', 'dex', 'Weekday', 'state'])\n",
    "confirmed_Cases.head(10)"
   ]
  },
  {
   "cell_type": "markdown",
   "metadata": {},
   "source": [
    "Test Train Split"
   ]
  },
  {
   "cell_type": "code",
   "execution_count": 8,
   "metadata": {},
   "outputs": [],
   "source": [
    "# Because this is panel data so I will split each country_Region's data \n",
    "def train_test_split(data):\n",
    "    size=int(len(data)*0.8)\n",
    "    # for train data will be collected from each country's data which index is from 0-size (80%)\n",
    "    x_train =data.drop(columns=['Diff']).iloc[0:size] \n",
    "    # for test data will be collected from each country's  data which index is from size to the end (20%)\n",
    "    x_test = data.drop(columns=['Diff']).iloc[size:]\n",
    "    y_train=data['Diff'].iloc[0:size] \n",
    "    y_test=data['Diff'].iloc[size:] \n",
    "    return x_train, x_test,y_train,y_test"
   ]
  },
  {
   "cell_type": "code",
   "execution_count": 9,
   "metadata": {},
   "outputs": [],
   "source": [
    "county=list(set(confirmed_Cases.county_name))\n",
    "# loop each county and split the data into train and test data \n",
    "X_train=[]\n",
    "X_test=[]\n",
    "Y_train=[]\n",
    "Y_test=[]\n",
    "for i in range(0,len(county)):\n",
    "    data=confirmed_Cases[confirmed_Cases['county_name']==county[i]]\n",
    "    # applied the function I created above\n",
    "    x_train, x_test,y_train,y_test=train_test_split(data) \n",
    "    X_train.append(x_train)\n",
    "    X_test.append(x_test)\n",
    "    Y_train.append(y_train)\n",
    "    Y_test.append(y_test)"
   ]
  },
  {
   "cell_type": "code",
   "execution_count": 10,
   "metadata": {},
   "outputs": [
    {
     "data": {
      "text/html": [
       "<div>\n",
       "<style scoped>\n",
       "    .dataframe tbody tr th:only-of-type {\n",
       "        vertical-align: middle;\n",
       "    }\n",
       "\n",
       "    .dataframe tbody tr th {\n",
       "        vertical-align: top;\n",
       "    }\n",
       "\n",
       "    .dataframe thead th {\n",
       "        text-align: right;\n",
       "    }\n",
       "</style>\n",
       "<table border=\"1\" class=\"dataframe\">\n",
       "  <thead>\n",
       "    <tr style=\"text-align: right;\">\n",
       "      <th></th>\n",
       "      <th></th>\n",
       "      <th>Dex14DaysAgo</th>\n",
       "      <th>CovidTime</th>\n",
       "      <th>DEX7</th>\n",
       "      <th>county_name</th>\n",
       "    </tr>\n",
       "    <tr>\n",
       "      <th>county</th>\n",
       "      <th>Week</th>\n",
       "      <th></th>\n",
       "      <th></th>\n",
       "      <th></th>\n",
       "      <th></th>\n",
       "    </tr>\n",
       "  </thead>\n",
       "  <tbody>\n",
       "    <tr>\n",
       "      <th rowspan=\"5\" valign=\"top\">41003</th>\n",
       "      <th>4</th>\n",
       "      <td>0.046370</td>\n",
       "      <td>0.0</td>\n",
       "      <td>0.141034</td>\n",
       "      <td>41003</td>\n",
       "    </tr>\n",
       "    <tr>\n",
       "      <th>5</th>\n",
       "      <td>0.053129</td>\n",
       "      <td>0.0</td>\n",
       "      <td>0.050200</td>\n",
       "      <td>41003</td>\n",
       "    </tr>\n",
       "    <tr>\n",
       "      <th>6</th>\n",
       "      <td>0.046370</td>\n",
       "      <td>0.0</td>\n",
       "      <td>0.057516</td>\n",
       "      <td>41003</td>\n",
       "    </tr>\n",
       "    <tr>\n",
       "      <th>7</th>\n",
       "      <td>0.053129</td>\n",
       "      <td>0.0</td>\n",
       "      <td>0.059082</td>\n",
       "      <td>41003</td>\n",
       "    </tr>\n",
       "    <tr>\n",
       "      <th>8</th>\n",
       "      <td>0.054575</td>\n",
       "      <td>0.0</td>\n",
       "      <td>0.055834</td>\n",
       "      <td>41003</td>\n",
       "    </tr>\n",
       "  </tbody>\n",
       "</table>\n",
       "</div>"
      ],
      "text/plain": [
       "             Dex14DaysAgo  CovidTime      DEX7  county_name\n",
       "county Week                                                \n",
       "41003  4         0.046370        0.0  0.141034        41003\n",
       "       5         0.053129        0.0  0.050200        41003\n",
       "       6         0.046370        0.0  0.057516        41003\n",
       "       7         0.053129        0.0  0.059082        41003\n",
       "       8         0.054575        0.0  0.055834        41003"
      ]
     },
     "execution_count": 10,
     "metadata": {},
     "output_type": "execute_result"
    }
   ],
   "source": [
    "X_train[0].head()"
   ]
  },
  {
   "cell_type": "code",
   "execution_count": 11,
   "metadata": {
    "scrolled": true
   },
   "outputs": [
    {
     "data": {
      "text/plain": [
       "county  Week\n",
       "41003   4       0.0\n",
       "        5       0.0\n",
       "        6       0.0\n",
       "        7       0.0\n",
       "        8       0.0\n",
       "Name: Diff, dtype: float64"
      ]
     },
     "execution_count": 11,
     "metadata": {},
     "output_type": "execute_result"
    }
   ],
   "source": [
    "Y_train[0].head()"
   ]
  },
  {
   "cell_type": "code",
   "execution_count": 12,
   "metadata": {},
   "outputs": [],
   "source": [
    "# concatenate each train dataset in X_train list and Y_train list respectively \n",
    "X_train=pd.concat(X_train)\n",
    "Y_train=pd.DataFrame(pd.concat(Y_train))\n",
    "# concatenate each test dataset in X_test list and Y_test list respectively\n",
    "X_test=pd.concat(X_test)\n",
    "Y_test=pd.DataFrame(pd.concat(Y_test))"
   ]
  },
  {
   "cell_type": "code",
   "execution_count": 13,
   "metadata": {},
   "outputs": [
    {
     "data": {
      "text/html": [
       "<div>\n",
       "<style scoped>\n",
       "    .dataframe tbody tr th:only-of-type {\n",
       "        vertical-align: middle;\n",
       "    }\n",
       "\n",
       "    .dataframe tbody tr th {\n",
       "        vertical-align: top;\n",
       "    }\n",
       "\n",
       "    .dataframe thead th {\n",
       "        text-align: right;\n",
       "    }\n",
       "</style>\n",
       "<table border=\"1\" class=\"dataframe\">\n",
       "  <thead>\n",
       "    <tr style=\"text-align: right;\">\n",
       "      <th></th>\n",
       "      <th></th>\n",
       "      <th>Diff</th>\n",
       "    </tr>\n",
       "    <tr>\n",
       "      <th>county</th>\n",
       "      <th>Week</th>\n",
       "      <th></th>\n",
       "    </tr>\n",
       "  </thead>\n",
       "  <tbody>\n",
       "    <tr>\n",
       "      <th rowspan=\"5\" valign=\"top\">41003</th>\n",
       "      <th>70</th>\n",
       "      <td>47.0</td>\n",
       "    </tr>\n",
       "    <tr>\n",
       "      <th>71</th>\n",
       "      <td>54.5</td>\n",
       "    </tr>\n",
       "    <tr>\n",
       "      <th>72</th>\n",
       "      <td>45.5</td>\n",
       "    </tr>\n",
       "    <tr>\n",
       "      <th>73</th>\n",
       "      <td>20.0</td>\n",
       "    </tr>\n",
       "    <tr>\n",
       "      <th>74</th>\n",
       "      <td>17.5</td>\n",
       "    </tr>\n",
       "  </tbody>\n",
       "</table>\n",
       "</div>"
      ],
      "text/plain": [
       "             Diff\n",
       "county Week      \n",
       "41003  70    47.0\n",
       "       71    54.5\n",
       "       72    45.5\n",
       "       73    20.0\n",
       "       74    17.5"
      ]
     },
     "execution_count": 13,
     "metadata": {},
     "output_type": "execute_result"
    }
   ],
   "source": [
    "Y_test.head()"
   ]
  },
  {
   "cell_type": "code",
   "execution_count": 14,
   "metadata": {
    "scrolled": true
   },
   "outputs": [
    {
     "data": {
      "text/plain": [
       "(135206, 4)"
      ]
     },
     "execution_count": 14,
     "metadata": {},
     "output_type": "execute_result"
    }
   ],
   "source": [
    "X_train.shape"
   ]
  },
  {
   "cell_type": "markdown",
   "metadata": {},
   "source": [
    "Data Preprocessing"
   ]
  },
  {
   "cell_type": "code",
   "execution_count": 15,
   "metadata": {},
   "outputs": [],
   "source": [
    "# Code Source: https://machinelearningmastery.com/multivariate-time-series-forecasting-lstms-keras/\n",
    "# convert series to supervised learning\n",
    "def series_to_supervised(data, n_in=1, n_out=1, dropnan=True):\n",
    "    n_vars = 1 if type(data) is list else data.shape[1]\n",
    "    df = DataFrame(data)\n",
    "    cols, names = list(), list()\n",
    "    # input sequence (t-n, ... t-1)\n",
    "    for i in range(n_in, 0, -1):\n",
    "        cols.append(df.shift(i))\n",
    "        names += [('var%d(t-%d)' % (j+1, i)) for j in range(n_vars)]\n",
    "    # forecast sequence (t, t+1, ... t+n)\n",
    "    for i in range(0, n_out):\n",
    "        cols.append(df.shift(-i))\n",
    "        if i == 0:\n",
    "            names += [('var%d(t)' % (j+1)) for j in range(n_vars)]\n",
    "        else:\n",
    "            names += [('var%d(t+%d)' % (j+1, i)) for j in range(n_vars)]\n",
    "    # put it all together\n",
    "    agg = concat(cols, axis=1)\n",
    "    agg.columns = names\n",
    "    # drop rows with NaN values\n",
    "    if dropnan:\n",
    "        agg.dropna(inplace=True)\n",
    "    return agg\n",
    "\n",
    "# create the reshape function\n",
    "def reshape_data(train,test):\n",
    "    #Frame as supervised learning and drop all time t columns except\n",
    "    reframed_train = series_to_supervised(train, 1, 1)\n",
    "    reframed_test = series_to_supervised(test, 1, 1)\n",
    "    # split into train and test sets\n",
    "    train= reframed_train.values\n",
    "    test=reframed_test.values\n",
    "    # split into input and outputs\n",
    "    train_X, y_train = train[:, :-1], train[:, -1]\n",
    "    test_X, y_test = test[:, :-1], test[:, -1]\n",
    "    # reshape input to be 3D [samples, timesteps, features]\n",
    "    x_train = train_X.reshape((train_X.shape[0], 1, train_X.shape[1]))\n",
    "    x_test = test_X.reshape((test_X.shape[0], 1, test_X.shape[1]))\n",
    "    return x_train,x_test,y_train,y_test"
   ]
  },
  {
   "cell_type": "code",
   "execution_count": 16,
   "metadata": {},
   "outputs": [],
   "source": [
    "encoder = LabelEncoder()\n",
    "#combine X train and Y train as train data \n",
    "train_data=pd.DataFrame()\n",
    "train_data[X_train.columns]=X_train\n",
    "train_data[Y_train.columns]=Y_train\n",
    "#train_data['county']= encoder.fit_transform(train_data['county_name'])\n",
    "#combine X test and Y test as test data \n",
    "test_data=pd.DataFrame()\n",
    "test_data[X_test.columns]=X_test\n",
    "test_data[Y_test.columns]=Y_test\n",
    "#test_data['county']= encoder.fit_transform(test_data['county_name'])"
   ]
  },
  {
   "cell_type": "code",
   "execution_count": 17,
   "metadata": {
    "scrolled": true
   },
   "outputs": [
    {
     "data": {
      "text/html": [
       "<div>\n",
       "<style scoped>\n",
       "    .dataframe tbody tr th:only-of-type {\n",
       "        vertical-align: middle;\n",
       "    }\n",
       "\n",
       "    .dataframe tbody tr th {\n",
       "        vertical-align: top;\n",
       "    }\n",
       "\n",
       "    .dataframe thead th {\n",
       "        text-align: right;\n",
       "    }\n",
       "</style>\n",
       "<table border=\"1\" class=\"dataframe\">\n",
       "  <thead>\n",
       "    <tr style=\"text-align: right;\">\n",
       "      <th></th>\n",
       "      <th></th>\n",
       "      <th>Dex14DaysAgo</th>\n",
       "      <th>CovidTime</th>\n",
       "      <th>DEX7</th>\n",
       "      <th>county_name</th>\n",
       "      <th>Diff</th>\n",
       "    </tr>\n",
       "    <tr>\n",
       "      <th>county</th>\n",
       "      <th>Week</th>\n",
       "      <th></th>\n",
       "      <th></th>\n",
       "      <th></th>\n",
       "      <th></th>\n",
       "      <th></th>\n",
       "    </tr>\n",
       "  </thead>\n",
       "  <tbody>\n",
       "    <tr>\n",
       "      <th>12133</th>\n",
       "      <th>8</th>\n",
       "      <td>0.11452</td>\n",
       "      <td>0.0</td>\n",
       "      <td>0.139229</td>\n",
       "      <td>12133</td>\n",
       "      <td>0.0</td>\n",
       "    </tr>\n",
       "  </tbody>\n",
       "</table>\n",
       "</div>"
      ],
      "text/plain": [
       "             Dex14DaysAgo  CovidTime      DEX7  county_name  Diff\n",
       "county Week                                                      \n",
       "12133  8          0.11452        0.0  0.139229        12133   0.0"
      ]
     },
     "execution_count": 17,
     "metadata": {},
     "output_type": "execute_result"
    }
   ],
   "source": [
    "train_data.sample()"
   ]
  },
  {
   "cell_type": "code",
   "execution_count": 18,
   "metadata": {},
   "outputs": [],
   "source": [
    "# using the function to obtain reshaped x_train,x_test,y_train,y_test\n",
    "x_train,x_test,y_train,y_test=reshape_data(train_data,test_data)"
   ]
  },
  {
   "cell_type": "code",
   "execution_count": 19,
   "metadata": {},
   "outputs": [
    {
     "data": {
      "text/plain": [
       "(1, 9)"
      ]
     },
     "execution_count": 19,
     "metadata": {},
     "output_type": "execute_result"
    }
   ],
   "source": [
    "x_train.shape[1], x_train.shape[2]"
   ]
  },
  {
   "cell_type": "markdown",
   "metadata": {},
   "source": [
    "LSTM Model"
   ]
  },
  {
   "cell_type": "code",
   "execution_count": 20,
   "metadata": {
    "scrolled": true
   },
   "outputs": [
    {
     "name": "stdout",
     "output_type": "stream",
     "text": [
      "Epoch 1/30\n",
      "2705/2705 [==============================] - 15s 4ms/step - loss: 113.6608\n",
      "Epoch 2/30\n",
      "2705/2705 [==============================] - 12s 4ms/step - loss: 113.0844\n",
      "Epoch 3/30\n",
      "2705/2705 [==============================] - 12s 4ms/step - loss: 107.8451\n",
      "Epoch 4/30\n",
      "2705/2705 [==============================] - 14s 5ms/step - loss: 102.0471\n",
      "Epoch 5/30\n",
      "2705/2705 [==============================] - ETA: 0s - loss: 100.244 - 14s 5ms/step - loss: 100.4518\n",
      "Epoch 6/30\n",
      "2705/2705 [==============================] - 12s 4ms/step - loss: 72.0536\n",
      "Epoch 7/30\n",
      "2705/2705 [==============================] - 12s 5ms/step - loss: 41.1845\n",
      "Epoch 8/30\n",
      "2705/2705 [==============================] - 13s 5ms/step - loss: 37.9890\n",
      "Epoch 9/30\n",
      "2705/2705 [==============================] - 14s 5ms/step - loss: 36.9079\n",
      "Epoch 10/30\n",
      "2705/2705 [==============================] - 14s 5ms/step - loss: 36.0312\n",
      "Epoch 11/30\n",
      "2705/2705 [==============================] - 12s 4ms/step - loss: 35.8335\n",
      "Epoch 12/30\n",
      "2705/2705 [==============================] - 10s 4ms/step - loss: 35.4250\n",
      "Epoch 13/30\n",
      "2705/2705 [==============================] - 8s 3ms/step - loss: 35.3496\n",
      "Epoch 14/30\n",
      "2705/2705 [==============================] - 8s 3ms/step - loss: 35.2730\n",
      "Epoch 15/30\n",
      "2705/2705 [==============================] - 9s 3ms/step - loss: 35.1215\n",
      "Epoch 16/30\n",
      "2705/2705 [==============================] - 11s 4ms/step - loss: 34.9797\n",
      "Epoch 17/30\n",
      "2705/2705 [==============================] - 9s 3ms/step - loss: 34.8146\n",
      "Epoch 18/30\n",
      "2705/2705 [==============================] - 13s 5ms/step - loss: 34.4253\n",
      "Epoch 19/30\n",
      "2705/2705 [==============================] - 9s 3ms/step - loss: 34.7872\n",
      "Epoch 20/30\n",
      "2705/2705 [==============================] - 11s 4ms/step - loss: 34.5417\n",
      "Epoch 21/30\n",
      "2705/2705 [==============================] - 9s 3ms/step - loss: 34.4080\n",
      "Epoch 22/30\n",
      "2705/2705 [==============================] - 8s 3ms/step - loss: 34.5327\n",
      "Epoch 23/30\n",
      "2705/2705 [==============================] - 10s 4ms/step - loss: 34.4081\n",
      "Epoch 24/30\n",
      "2705/2705 [==============================] - 9s 3ms/step - loss: 34.4242\n",
      "Epoch 25/30\n",
      "2705/2705 [==============================] - 10s 4ms/step - loss: 34.3128\n",
      "Epoch 26/30\n",
      "2705/2705 [==============================] - 9s 3ms/step - loss: 34.2938\n",
      "Epoch 27/30\n",
      "2705/2705 [==============================] - 9s 3ms/step - loss: 34.2695\n",
      "Epoch 28/30\n",
      "2705/2705 [==============================] - 11s 4ms/step - loss: 34.2548\n",
      "Epoch 29/30\n",
      "2705/2705 [==============================] - 13s 5ms/step - loss: 34.0565\n",
      "Epoch 30/30\n",
      "2705/2705 [==============================] - 13s 5ms/step - loss: 34.2020\n"
     ]
    }
   ],
   "source": [
    "# design network for confirmed cases data \n",
    "model = Sequential()\n",
    "model.add(LSTM(4, activation='relu',input_shape=(x_train.shape[1], x_train.shape[2])))\n",
    "\n",
    "model.add(Dense(1))\n",
    "model.compile(loss='mae', optimizer='adam')\n",
    "# fit network\n",
    "\n",
    "history = model.fit(x_train, y_train, epochs=30, batch_size=50,  verbose=1, shuffle=False)"
   ]
  },
  {
   "cell_type": "code",
   "execution_count": 28,
   "metadata": {},
   "outputs": [
    {
     "data": {
      "image/png": "[encoded data removed]",
      "text/plain": [
       "<Figure size 432x288 with 1 Axes>"
      ]
     },
     "metadata": {},
     "output_type": "display_data"
    }
   ],
   "source": [
    "#plot history\n",
    "plt.plot(history.history['loss'], label='Loss')\n",
    "plt.legend()\n",
    "plt.show()"
   ]
  },
  {
   "cell_type": "code",
   "execution_count": 29,
   "metadata": {
    "scrolled": true
   },
   "outputs": [
    {
     "data": {
      "text/plain": [
       "((34305, 1), (34305,))"
      ]
     },
     "execution_count": 29,
     "metadata": {},
     "output_type": "execute_result"
    }
   ],
   "source": [
    "# make a prediction using the testing data\n",
    "y_test_pre=model.predict(x_test, batch_size = 20)\n",
    "# check length\n",
    "y_test_pre.shape,y_test.shape"
   ]
  },
  {
   "cell_type": "code",
   "execution_count": 23,
   "metadata": {},
   "outputs": [
    {
     "data": {
      "text/plain": [
       "array([[ 28.31238 ],\n",
       "       [ 35.422043],\n",
       "       [ 26.917326],\n",
       "       ...,\n",
       "       [124.02545 ],\n",
       "       [186.48053 ],\n",
       "       [246.56583 ]], dtype=float32)"
      ]
     },
     "execution_count": 23,
     "metadata": {},
     "output_type": "execute_result"
    }
   ],
   "source": [
    "y_test_pre"
   ]
  },
  {
   "cell_type": "code",
   "execution_count": 30,
   "metadata": {},
   "outputs": [
    {
     "data": {
      "text/plain": [
       "array([[ 28.31238 ],\n",
       "       [ 35.422043],\n",
       "       [ 26.917326],\n",
       "       ...,\n",
       "       [124.02545 ],\n",
       "       [186.48053 ],\n",
       "       [246.56583 ]], dtype=float32)"
      ]
     },
     "execution_count": 30,
     "metadata": {},
     "output_type": "execute_result"
    }
   ],
   "source": [
    "y_test_pre"
   ]
  },
  {
   "cell_type": "code",
   "execution_count": 31,
   "metadata": {
    "scrolled": false
   },
   "outputs": [
    {
     "data": {
      "text/html": [
       "<div>\n",
       "<style scoped>\n",
       "    .dataframe tbody tr th:only-of-type {\n",
       "        vertical-align: middle;\n",
       "    }\n",
       "\n",
       "    .dataframe tbody tr th {\n",
       "        vertical-align: top;\n",
       "    }\n",
       "\n",
       "    .dataframe thead th {\n",
       "        text-align: right;\n",
       "    }\n",
       "</style>\n",
       "<table border=\"1\" class=\"dataframe\">\n",
       "  <thead>\n",
       "    <tr style=\"text-align: right;\">\n",
       "      <th></th>\n",
       "      <th>Week</th>\n",
       "      <th>County</th>\n",
       "      <th>Prediction</th>\n",
       "      <th>Actual Values</th>\n",
       "    </tr>\n",
       "  </thead>\n",
       "  <tbody>\n",
       "    <tr>\n",
       "      <th>34295</th>\n",
       "      <td>76</td>\n",
       "      <td>24510</td>\n",
       "      <td>33.108509</td>\n",
       "      <td>43.5</td>\n",
       "    </tr>\n",
       "    <tr>\n",
       "      <th>34296</th>\n",
       "      <td>77</td>\n",
       "      <td>24510</td>\n",
       "      <td>21.293175</td>\n",
       "      <td>31.0</td>\n",
       "    </tr>\n",
       "    <tr>\n",
       "      <th>34297</th>\n",
       "      <td>78</td>\n",
       "      <td>24510</td>\n",
       "      <td>15.624335</td>\n",
       "      <td>25.0</td>\n",
       "    </tr>\n",
       "    <tr>\n",
       "      <th>34298</th>\n",
       "      <td>79</td>\n",
       "      <td>24510</td>\n",
       "      <td>4.266328</td>\n",
       "      <td>13.0</td>\n",
       "    </tr>\n",
       "    <tr>\n",
       "      <th>34299</th>\n",
       "      <td>80</td>\n",
       "      <td>24510</td>\n",
       "      <td>23.681482</td>\n",
       "      <td>33.5</td>\n",
       "    </tr>\n",
       "    <tr>\n",
       "      <th>34300</th>\n",
       "      <td>81</td>\n",
       "      <td>24510</td>\n",
       "      <td>20.390173</td>\n",
       "      <td>30.0</td>\n",
       "    </tr>\n",
       "    <tr>\n",
       "      <th>34301</th>\n",
       "      <td>82</td>\n",
       "      <td>24510</td>\n",
       "      <td>56.356487</td>\n",
       "      <td>68.0</td>\n",
       "    </tr>\n",
       "    <tr>\n",
       "      <th>34302</th>\n",
       "      <td>83</td>\n",
       "      <td>24510</td>\n",
       "      <td>124.025452</td>\n",
       "      <td>139.5</td>\n",
       "    </tr>\n",
       "    <tr>\n",
       "      <th>34303</th>\n",
       "      <td>84</td>\n",
       "      <td>24510</td>\n",
       "      <td>186.480530</td>\n",
       "      <td>205.5</td>\n",
       "    </tr>\n",
       "    <tr>\n",
       "      <th>34304</th>\n",
       "      <td>85</td>\n",
       "      <td>24510</td>\n",
       "      <td>246.565826</td>\n",
       "      <td>269.0</td>\n",
       "    </tr>\n",
       "  </tbody>\n",
       "</table>\n",
       "</div>"
      ],
      "text/plain": [
       "       Week  County  Prediction  Actual Values\n",
       "34295    76   24510   33.108509           43.5\n",
       "34296    77   24510   21.293175           31.0\n",
       "34297    78   24510   15.624335           25.0\n",
       "34298    79   24510    4.266328           13.0\n",
       "34299    80   24510   23.681482           33.5\n",
       "34300    81   24510   20.390173           30.0\n",
       "34301    82   24510   56.356487           68.0\n",
       "34302    83   24510  124.025452          139.5\n",
       "34303    84   24510  186.480530          205.5\n",
       "34304    85   24510  246.565826          269.0"
      ]
     },
     "execution_count": 31,
     "metadata": {},
     "output_type": "execute_result"
    }
   ],
   "source": [
    "pa=pd.DataFrame()\n",
    "pa['Week']=X_test.reset_index().Week.iloc[1:-1]\n",
    "pa['County']=X_test.reset_index().county.iloc[1:-1]\n",
    "pa['Prediction']=[i[0] for i in y_test_pre][1:] \n",
    "pa['Actual Values']=y_test[:-1]\n",
    "pa.tail(10)"
   ]
  },
  {
   "cell_type": "code",
   "execution_count": 32,
   "metadata": {},
   "outputs": [
    {
     "data": {
      "text/html": [
       "<div>\n",
       "<style scoped>\n",
       "    .dataframe tbody tr th:only-of-type {\n",
       "        vertical-align: middle;\n",
       "    }\n",
       "\n",
       "    .dataframe tbody tr th {\n",
       "        vertical-align: top;\n",
       "    }\n",
       "\n",
       "    .dataframe thead th {\n",
       "        text-align: right;\n",
       "    }\n",
       "</style>\n",
       "<table border=\"1\" class=\"dataframe\">\n",
       "  <thead>\n",
       "    <tr style=\"text-align: right;\">\n",
       "      <th></th>\n",
       "      <th>Week</th>\n",
       "      <th>County</th>\n",
       "      <th>Prediction</th>\n",
       "      <th>Actual Values</th>\n",
       "    </tr>\n",
       "  </thead>\n",
       "  <tbody>\n",
       "    <tr>\n",
       "      <th>25612</th>\n",
       "      <td>80</td>\n",
       "      <td>6065</td>\n",
       "      <td>142.659088</td>\n",
       "      <td>150.0</td>\n",
       "    </tr>\n",
       "    <tr>\n",
       "      <th>4495</th>\n",
       "      <td>77</td>\n",
       "      <td>42133</td>\n",
       "      <td>28.719669</td>\n",
       "      <td>47.5</td>\n",
       "    </tr>\n",
       "    <tr>\n",
       "      <th>15535</th>\n",
       "      <td>84</td>\n",
       "      <td>45025</td>\n",
       "      <td>33.697693</td>\n",
       "      <td>54.0</td>\n",
       "    </tr>\n",
       "    <tr>\n",
       "      <th>15785</th>\n",
       "      <td>79</td>\n",
       "      <td>45055</td>\n",
       "      <td>0.001565</td>\n",
       "      <td>2.0</td>\n",
       "    </tr>\n",
       "    <tr>\n",
       "      <th>9280</th>\n",
       "      <td>85</td>\n",
       "      <td>51650</td>\n",
       "      <td>134.838531</td>\n",
       "      <td>164.5</td>\n",
       "    </tr>\n",
       "    <tr>\n",
       "      <th>14529</th>\n",
       "      <td>81</td>\n",
       "      <td>12085</td>\n",
       "      <td>170.833069</td>\n",
       "      <td>182.5</td>\n",
       "    </tr>\n",
       "    <tr>\n",
       "      <th>13135</th>\n",
       "      <td>81</td>\n",
       "      <td>20009</td>\n",
       "      <td>6.318635</td>\n",
       "      <td>13.0</td>\n",
       "    </tr>\n",
       "    <tr>\n",
       "      <th>3025</th>\n",
       "      <td>86</td>\n",
       "      <td>42015</td>\n",
       "      <td>0.001565</td>\n",
       "      <td>15.0</td>\n",
       "    </tr>\n",
       "    <tr>\n",
       "      <th>21711</th>\n",
       "      <td>72</td>\n",
       "      <td>5027</td>\n",
       "      <td>1.214541</td>\n",
       "      <td>0.0</td>\n",
       "    </tr>\n",
       "    <tr>\n",
       "      <th>26375</th>\n",
       "      <td>78</td>\n",
       "      <td>47075</td>\n",
       "      <td>0.001565</td>\n",
       "      <td>-2.0</td>\n",
       "    </tr>\n",
       "  </tbody>\n",
       "</table>\n",
       "</div>"
      ],
      "text/plain": [
       "       Week  County  Prediction  Actual Values\n",
       "25612    80    6065  142.659088          150.0\n",
       "4495     77   42133   28.719669           47.5\n",
       "15535    84   45025   33.697693           54.0\n",
       "15785    79   45055    0.001565            2.0\n",
       "9280     85   51650  134.838531          164.5\n",
       "14529    81   12085  170.833069          182.5\n",
       "13135    81   20009    6.318635           13.0\n",
       "3025     86   42015    0.001565           15.0\n",
       "21711    72    5027    1.214541            0.0\n",
       "26375    78   47075    0.001565           -2.0"
      ]
     },
     "execution_count": 32,
     "metadata": {},
     "output_type": "execute_result"
    }
   ],
   "source": [
    "pa.sample(10)"
   ]
  },
  {
   "cell_type": "markdown",
   "metadata": {},
   "source": [
    "Next step is to do a groupby based on county and figure out the total root MSE for each county. Then plot this. "
   ]
  },
  {
   "cell_type": "markdown",
   "metadata": {},
   "source": [
    "add weeks 1-70 into the dataframe"
   ]
  },
  {
   "cell_type": "code",
   "execution_count": 25,
   "metadata": {},
   "outputs": [
    {
     "data": {
      "text/plain": [
       "<matplotlib.legend.Legend at 0x21f5c79f880>"
      ]
     },
     "execution_count": 25,
     "metadata": {},
     "output_type": "execute_result"
    },
    {
     "data": {
      "image/png": "[encoded data removed]",
      "text/plain": [
       "<Figure size 1440x720 with 1 Axes>"
      ]
     },
     "metadata": {},
     "output_type": "display_data"
    }
   ],
   "source": [
    "plt.figure(figsize=(20,10))\n",
    "pa.groupby('Week')['Prediction'].sum().plot(kind='line',label='prediction',color='red',alpha=1)\n",
    "pa.groupby('Week')['Actual Values'].sum().plot(kind='line',label='actual values',color='blue',alpha=0.4)\n",
    "plt.xticks(rotation=90,size=20)\n",
    "plt.yticks(size=20)\n",
    "\n",
    "plt.ylabel('Cases',fontsize=20)\n",
    "plt.xlabel('Date',fontsize=20)\n",
    "plt.title('Predicted Values vs Acutal Values - Weekly New Cases',fontsize=20)\n",
    "plt.legend()"
   ]
  },
  {
   "cell_type": "code",
   "execution_count": 26,
   "metadata": {},
   "outputs": [],
   "source": [
    "from sklearn.metrics import mean_squared_error\n",
    "def RMSE(actual,prediction):\n",
    "    rmse = np.sqrt(mean_squared_error(actual,prediction))\n",
    "    return rmse"
   ]
  },
  {
   "cell_type": "code",
   "execution_count": 27,
   "metadata": {},
   "outputs": [
    {
     "name": "stdout",
     "output_type": "stream",
     "text": [
      "65.60110643026078\n"
     ]
    }
   ],
   "source": [
    "print(RMSE(y_test[:-1],[i[0] for i in y_test_pre][1:]))"
   ]
  },
  {
   "cell_type": "markdown",
   "metadata": {},
   "source": [
    "## **Graphing Results**"
   ]
  },
  {
   "cell_type": "code",
   "execution_count": null,
   "metadata": {},
   "outputs": [],
   "source": []
  }
 ],
 "metadata": {
  "kernelspec": {
   "display_name": "Python 3",
   "language": "python",
   "name": "python3"
  },
  "language_info": {
   "codemirror_mode": {
    "name": "ipython",
    "version": 3
   },
   "file_extension": ".py",
   "mimetype": "text/x-python",
   "name": "python",
   "nbconvert_exporter": "python",
   "pygments_lexer": "ipython3",
   "version": "3.8.5"
  }
 },
 "nbformat": 4,
 "nbformat_minor": 4
}
